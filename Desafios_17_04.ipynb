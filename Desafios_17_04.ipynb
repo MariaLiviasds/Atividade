{
  "cells": [
    {
      "cell_type": "markdown",
      "source": [
        "Desafio 1"
      ],
      "metadata": {
        "id": "S7ldVyT0KFv1"
      }
    },
    {
      "cell_type": "code",
      "source": [
        "print(\"Calcule a taxa para transferência do seu veículo!\")\n",
        "ano_carro = int(input(\"Digite o ano de fabricação do seu carro: \"))\n",
        "preco_carro = float(input(\"Digite o preço do seu carro: \"))\n",
        "taxa1 = 1/100 * preco_carro\n",
        "taxa2 = 1.5/100 * preco_carro\n",
        "if ano_carro >= 1990:\n",
        "  print(\"A taxa é no valor de\", taxa2)\n",
        "else:\n",
        "  print(\"A taxa é no valor de\", taxa1)\n",
        "\n"
      ],
      "metadata": {
        "colab": {
          "base_uri": "https://localhost:8080/"
        },
        "id": "S6_iwjHaKDh_",
        "outputId": "1ae6b574-a4ca-466d-a7b5-4eec5a6535f7"
      },
      "execution_count": 19,
      "outputs": [
        {
          "output_type": "stream",
          "name": "stdout",
          "text": [
            "Calcule a taxa para transferência do seu veículo!\n",
            "Digite o ano de fabricação do seu carro: 1975\n",
            "Digite o preço do seu carro: 1000\n",
            "A taxa é no valor de 10.0\n"
          ]
        }
      ]
    },
    {
      "cell_type": "code",
      "source": [
        "codigo_101 = \"Gerente\"\n",
        "codigo_102 = \"Engenheiro\"\n",
        "codigo_103 = \"Técnico\"\n",
        "cargo = input(\"Digite o nome do seu cargo: \")\n",
        "salario_funcionario = float(input(\"Digite o seu salário: \"))\n",
        "if cargo == codigo_101 or cargo == \"gerente\":\n",
        "  aumento = 10/100 * salario_funcionario\n",
        "  print(\"Seu salário era no valor de\" , salario_funcionario ,\", houve um aumento de\" , aumento , \"e seu próximo salário será\" , aumento + salario_funcionario)\n",
        "elif cargo == codigo_102 or cargo == \"engenheiro\":\n",
        "  aumento = 20/100 * salario_funcionario\n",
        "  print(\"Seu salário era no valor de\" , salario_funcionario ,\", houve um aumento de\" , aumento , \"e seu próximo salário será\" , aumento + salario_funcionario)\n",
        "elif cargo == codigo_103 or cargo == \"técnico\" or \"tecnico\" or \"Tecnico\":\n",
        "  aumento = 30/100 * salario_funcionario\n",
        "  print(\"Seu salário era no valor de\" , salario_funcionario  ,\", houve um aumento de\" , aumento , \"e seu próximo salário será\" , aumento + salario_funcionario)\n",
        "else:\n",
        "  aumento = 40/100 * salario_funcionario\n",
        "  print(\"Seu salário era no valor de\" , salario_funcionario  ,\", houve um aumento de\" , aumento , \"e seu próximo salário será\" , aumento + salario_funcionario)\n",
        ""
      ],
      "metadata": {
        "colab": {
          "base_uri": "https://localhost:8080/"
        },
        "id": "7AQpkFi4SIJW",
        "outputId": "bbe19b43-71cd-407b-c2a6-0fe6eba75c9e"
      },
      "execution_count": 63,
      "outputs": [
        {
          "output_type": "stream",
          "name": "stdout",
          "text": [
            "Digite o nome do seu cargo: enfermeira\n",
            "Digite o seu salário: 1000\n",
            "Seu salário era no valor de 1000.0 , houve um aumento de 300.0 e seu próximo salário será 1300.0\n"
          ]
        }
      ]
    }
  ],
  "metadata": {
    "colab": {
      "toc_visible": true,
      "provenance": []
    },
    "kernelspec": {
      "display_name": "Python 3",
      "name": "python3"
    }
  },
  "nbformat": 4,
  "nbformat_minor": 0
}