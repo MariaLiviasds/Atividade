{
  "cells": [
    {
      "cell_type": "code",
      "source": [
        "def funcaoLeitura():\n",
        "    for i in range(5):\n",
        "        print(\"Número\", i)\n",
        "\n",
        "funcaoLeitura()"
      ],
      "outputs": [
        {
          "output_type": "stream",
          "name": "stdout",
          "text": "Número 0\nNúmero 1\nNúmero 2\nNúmero 3\nNúmero 4\n"
        }
      ],
      "execution_count": null,
      "metadata": {
        "id": "jUOySLE3pCFG",
        "outputId": "93006031-3b26-412b-c98f-30d704cc840b"
      }
    },
    {
      "cell_type": "code",
      "source": [
        "#Função para somar dois números\n",
        "def addNum(n1,n2):\n",
        "    print (\"O primeiro número é:\", n1)\n",
        "    print (\"O segundo número é:\", n2)\n",
        "    print (\"A soma número é:\", n1+n2)"
      ],
      "outputs": [],
      "execution_count": null,
      "metadata": {
        "id": "KSisX1BPpCFI"
      }
    },
    {
      "cell_type": "code",
      "source": [
        "addNum(2,3)"
      ],
      "outputs": [
        {
          "output_type": "stream",
          "name": "stdout",
          "text": "O primeiro número é: 2\nO segundo número é: 3\nA soma número é: 5\n"
        }
      ],
      "execution_count": null,
      "metadata": {
        "id": "Y8Qi2ZT2pCFJ",
        "outputId": "20450141-7ce6-4539-d74e-b95bfcbf5934"
      }
    },
    {
      "cell_type": "code",
      "source": [
        "addNum(4,3)"
      ],
      "outputs": [
        {
          "output_type": "stream",
          "name": "stdout",
          "text": "O primeiro número é: 4\nO segundo número é: 3\nA soma número é: 7\n"
        }
      ],
      "execution_count": null,
      "metadata": {
        "id": "isKu3yy_pCFJ",
        "outputId": "4df5bcc9-ab66-416b-c66c-164e92a93ba4"
      }
    },
    {
      "cell_type": "code",
      "source": [
        "varGlobal = 10 #essa é uma variável global\n",
        "def multiplicador(num1, num2):\n",
        "    varGlobal = (num1 * num2) #essa é uma variável local\n",
        "    print(\"Variável da função Multiplica:\", varGlobal)\n",
        "\n",
        "multiplicador(5,4)\n",
        "print(varGlobal)"
      ],
      "outputs": [
        {
          "output_type": "stream",
          "name": "stdout",
          "text": "Variável da função Multiplica: 20\n10\n"
        }
      ],
      "execution_count": null,
      "metadata": {
        "id": "vJ_mFDoMpCFK",
        "outputId": "980faee4-89f1-49e6-d493-c6fb58feec93"
      }
    },
    {
      "cell_type": "code",
      "source": [
        "varGlobal = 10 #essa é uma variável global\n",
        "def multiplica(num1, num2):\n",
        "    varLocal = (num1 * num2) #essa é uma variável local\n",
        "    print(\"Variável da função Multiplica:\", varLocal)\n",
        "    print(varLocal)"
      ],
      "outputs": [],
      "execution_count": null,
      "metadata": {
        "id": "tltyDmK1pCFK"
      }
    },
    {
      "cell_type": "code",
      "source": [
        "multiplica(5,4)"
      ],
      "outputs": [
        {
          "output_type": "stream",
          "name": "stdout",
          "text": "Variável da função Multiplica: 20\n20\n"
        }
      ],
      "execution_count": null,
      "metadata": {
        "id": "ADox9YlEpCFL",
        "outputId": "6422e570-255d-419a-fd20-bda0b8a9d551"
      }
    },
    {
      "cell_type": "code",
      "source": [
        "print(varLocal) #variável existe somente dentro da função"
      ],
      "outputs": [],
      "execution_count": null,
      "metadata": {
        "id": "mN7thjTKpCFL"
      }
    },
    {
      "cell_type": "code",
      "source": [
        "def separarTexto(texto):\n",
        "    return texto.split()"
      ],
      "outputs": [],
      "execution_count": null,
      "metadata": {
        "id": "0xEvBvP8pCFL"
      }
    },
    {
      "cell_type": "code",
      "source": [
        "separarTexto(\"Cibele Maria Suely \")"
      ],
      "outputs": [
        {
          "output_type": "stream",
          "name": "stdout",
          "text": "['Cibele', 'Maria', 'Suely']\n"
        }
      ],
      "execution_count": null,
      "metadata": {
        "id": "ADHHGY6wpCFL",
        "outputId": "9600c0ff-9e2b-4c7a-e6fa-4d04edbc01ef"
      }
    },
    {
      "cell_type": "code",
      "source": [
        "#Quqando não sabemos a quantidade de parâmentros basta usar o *\n",
        "def variosParametros(*parametros):\n",
        "    for n, item in enumerate(parametros):\n",
        "        print(\"Parâmetro\", n, item)\n",
        "    return;"
      ],
      "outputs": [],
      "execution_count": null,
      "metadata": {
        "id": "gz_LT10gpCFM"
      }
    },
    {
      "cell_type": "code",
      "source": [
        "variosParametros('Cibele', 'Suely', 'Giggio', 'Madá', 'Luquinhas')"
      ],
      "outputs": [
        {
          "output_type": "stream",
          "name": "stdout",
          "text": "Parâmetro 0 Cibele\nParâmetro 1 Suely\nParâmetro 2 Giggio\nParâmetro 3 Madá\nParâmetro 4 Luquinhas\n"
        }
      ],
      "execution_count": null,
      "metadata": {
        "id": "HHOm_zkJpCFM",
        "outputId": "40e4044a-6d53-4295-a7a2-0d4ef616dd3a"
      }
    },
    {
      "cell_type": "code",
      "source": [
        "def soma (n1, n2):\n",
        "    return n1+n2\n",
        "\n",
        "def subtrai (n1, n2):\n",
        "    return n1-n2\n",
        "\n",
        "def multipilca (n1, n2):\n",
        "    return n1*n2\n",
        "\n",
        "def divide (n1, n2):\n",
        "    return n1/n2"
      ],
      "outputs": [],
      "execution_count": null,
      "metadata": {
        "id": "n7Je1xHApCFM"
      }
    }
  ],
  "metadata": {
    "kernelspec": {
      "name": "python",
      "language": "python",
      "display_name": "Pyolite (preview)"
    },
    "language_info": {
      "codemirror_mode": {
        "name": "python",
        "version": 3
      },
      "file_extension": ".py",
      "mimetype": "text/x-python",
      "name": "python",
      "nbconvert_exporter": "python",
      "pygments_lexer": "ipython3",
      "version": "3.8"
    },
    "nteract": {
      "version": "nteract-front-end@1.0.0"
    },
    "kernel_info": {
      "name": "python"
    },
    "colab": {
      "provenance": []
    }
  },
  "nbformat": 4,
  "nbformat_minor": 0
}