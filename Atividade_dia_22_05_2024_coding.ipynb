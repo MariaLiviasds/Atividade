{
  "cells": [
    {
      "cell_type": "markdown",
      "source": [
        "**N patinhos foram passear**\n",
        "**Além das montanhas para brincar**\n",
        "**A mamãe gritou: Qua qua qua qua**\n",
        "**Mas só n-1 patinhos voltaram de lá**\n",
        "**A musica se repete até nenhum patinho voltar de lá **\n"
      ],
      "metadata": {
        "id": "k4HLmCKoGLhU"
      }
    },
    {
      "cell_type": "code",
      "source": [
        "for patinhos in [5, 4, 3, 2, 1]:\n",
        "    if patinhos == 1:\n",
        "        print(patinhos, \"patinho foi passear, além das montanhas para brincar, a mamãe gritou: Quá quá quá quá! Mas nenhum patinho voltou de lá.\")\n",
        "    else:\n",
        "        print(patinhos, \"patinhos foram passear, além das montanhas para brincar, a mamãe gritou: Quá quá quá quá! Mas só\", patinhos-1, \"voltaram de lá.\")\n"
      ],
      "metadata": {
        "id": "XgjPS0Q7GgCV",
        "outputId": "69bb036f-0d56-4193-960a-a1dded9e5351",
        "colab": {
          "base_uri": "https://localhost:8080/"
        }
      },
      "execution_count": null,
      "outputs": [
        {
          "output_type": "stream",
          "name": "stdout",
          "text": [
            "5 patinhos foram passear, além das montanhas para brincar, a mamãe gritou quá quá quá quá, mas só 4 voltaram de lá\n",
            "4 patinhos foram passear, além das montanhas para brincar, a mamãe gritou quá quá quá quá, mas só 3 voltaram de lá\n",
            "3 patinhos foram passear, além das montanhas para brincar, a mamãe gritou quá quá quá quá, mas só 2 voltaram de lá\n",
            "2 patinhos foram passear, além das montanhas para brincar, a mamãe gritou quá quá quá quá, mas só 1 voltaram de lá\n",
            "1 patinho foi passear, além das montanhas para brincar, a mamãe gritou quá quá quá quá, mas nenhum patinho voltou de lá\n"
          ]
        }
      ]
    },
    {
      "cell_type": "markdown",
      "source": [
        "**A mamãe patinha**\n",
        "**Foi procurar**\n",
        "**Além das montanhas**\n",
        "**Na beira do mar\n",
        "**A mamãe gritou**\n",
        "**Quá, quá, quá, quá!**\n",
        "**E os cinco patinhos**\n",
        "**Voltaram de lá**"
      ],
      "metadata": {
        "id": "uvzYsZZTJyH2"
      }
    },
    {
      "cell_type": "code",
      "source": [
        "for patinhos in [5]:\n",
        " print(\"A mamãe patinha foi procurar, além das montanhas na beira do mar, a mamãe gritou: Quá, quá, quá, quá! E os\" ,patinhos , \"patinhos voltaram de lá.\")"
      ],
      "metadata": {
        "id": "ES8aSN4JKCYB",
        "outputId": "43422478-d38f-46ce-e84e-21f67a5e5adb",
        "colab": {
          "base_uri": "https://localhost:8080/"
        }
      },
      "execution_count": 4,
      "outputs": [
        {
          "output_type": "stream",
          "name": "stdout",
          "text": [
            "A mamãe patinha foi procurar, além das montanhas na beira do mar, a mamãe gritou: Quá, quá, quá, quá! E os 5 patinhos voltaram de lá.\n"
          ]
        }
      ]
    },
    {
      "cell_type": "markdown",
      "source": [
        "**Um Elefante Incomoda Muita Gente**\n",
        "\n"
      ],
      "metadata": {
        "id": "-Q7ACbepKN_M"
      }
    },
    {
      "cell_type": "code",
      "source": [
        "for elefantes in [1, 2, 3, 4, 5, 6, 7, 8, 9, 10]:\n",
        "  if elefantes == 1:\n",
        "    print(elefantes, \"elefante incomoda muita gente,\" , elefantes+1 , \"elefantes\" , elefantes* \"incomodam\" , \"muito mais.\")\n",
        "  else:\n",
        "    print(elefantes, \"elefantes incomodam muita gente,\" , elefantes+1 , \"elefantes\", elefantes* \"incomodam \", \"muito mais.\")\n",
        "\n",
        "\n"
      ],
      "metadata": {
        "id": "egZK6_hCLFpw",
        "outputId": "6047c621-8209-420e-b2c9-1eee3fdea13e",
        "colab": {
          "base_uri": "https://localhost:8080/"
        }
      },
      "execution_count": null,
      "outputs": [
        {
          "output_type": "stream",
          "name": "stdout",
          "text": [
            "1 elefante incomoda muita gente, 2 elefantes incomodam muito mais.\n",
            "2 elefantes incomodam muita gente, 3 elefantes incomodam incomodam  muito mais.\n",
            "3 elefantes incomodam muita gente, 4 elefantes incomodam incomodam incomodam  muito mais.\n",
            "4 elefantes incomodam muita gente, 5 elefantes incomodam incomodam incomodam incomodam  muito mais.\n",
            "5 elefantes incomodam muita gente, 6 elefantes incomodam incomodam incomodam incomodam incomodam  muito mais.\n",
            "6 elefantes incomodam muita gente, 7 elefantes incomodam incomodam incomodam incomodam incomodam incomodam  muito mais.\n",
            "7 elefantes incomodam muita gente, 8 elefantes incomodam incomodam incomodam incomodam incomodam incomodam incomodam  muito mais.\n",
            "8 elefantes incomodam muita gente, 9 elefantes incomodam incomodam incomodam incomodam incomodam incomodam incomodam incomodam  muito mais.\n",
            "9 elefantes incomodam muita gente, 10 elefantes incomodam incomodam incomodam incomodam incomodam incomodam incomodam incomodam incomodam  muito mais.\n",
            "10 elefantes incomodam muita gente, 11 elefantes incomodam incomodam incomodam incomodam incomodam incomodam incomodam incomodam incomodam incomodam  muito mais.\n"
          ]
        }
      ]
    },
    {
      "cell_type": "markdown",
      "source": [
        "**Um Elefante Incomoda Muita Gente**"
      ],
      "metadata": {
        "id": "ttWyloEEPYb7"
      }
    },
    {
      "cell_type": "code",
      "source": [
        "for elefantes in [10, 9, 8, 7, 6, 5, 4, 3, 2, 1]:\n",
        "  if elefantes == 1:\n",
        "    print(elefantes, \"elefante incomoda muita gente,\" , elefantes-1 , \"elefantes\", elefantes* \"incomodam \" , \"muito menos.\")\n",
        "  else:\n",
        "    print(elefantes, \"elefantes incomodam muita gente,\" , elefantes-1 , \"elefantes\", elefantes* \"incomodam \", \"muito menos.\")\n"
      ],
      "metadata": {
        "id": "BSSwC1zmO2i0",
        "outputId": "55fb5f4a-7fb0-41df-b60f-cb7f3fba8b1b",
        "colab": {
          "base_uri": "https://localhost:8080/"
        }
      },
      "execution_count": null,
      "outputs": [
        {
          "output_type": "stream",
          "name": "stdout",
          "text": [
            "10 elefantes incomodam muita gente, 9 elefantes incomodam incomodam incomodam incomodam incomodam incomodam incomodam incomodam incomodam incomodam  muito menos.\n",
            "9 elefantes incomodam muita gente, 8 elefantes incomodam incomodam incomodam incomodam incomodam incomodam incomodam incomodam incomodam  muito menos.\n",
            "8 elefantes incomodam muita gente, 7 elefantes incomodam incomodam incomodam incomodam incomodam incomodam incomodam incomodam  muito menos.\n",
            "7 elefantes incomodam muita gente, 6 elefantes incomodam incomodam incomodam incomodam incomodam incomodam incomodam  muito menos.\n",
            "6 elefantes incomodam muita gente, 5 elefantes incomodam incomodam incomodam incomodam incomodam incomodam  muito menos.\n",
            "5 elefantes incomodam muita gente, 4 elefantes incomodam incomodam incomodam incomodam incomodam  muito menos.\n",
            "4 elefantes incomodam muita gente, 3 elefantes incomodam incomodam incomodam incomodam  muito menos.\n",
            "3 elefantes incomodam muita gente, 2 elefantes incomodam incomodam incomodam  muito menos.\n",
            "2 elefantes incomodam muita gente, 1 elefantes incomodam incomodam  muito menos.\n",
            "1 elefante incomoda muita gente, 0 elefantes incomodam  muito menos.\n"
          ]
        }
      ]
    },
    {
      "cell_type": "markdown",
      "source": [
        "**Mariana conta 1**"
      ],
      "metadata": {
        "id": "v1lBn_gCO9jT"
      }
    },
    {
      "cell_type": "code",
      "source": [
        "for conta in [1, 2, 3, 4, 5, 6, 7, 8, 9, 10]:\n",
        "  if conta == 1:\n",
        "    print(\"Mariana conta\" ,conta, \", Mariana conta\" ,conta, \", é\" , conta , \", é\", conta+1 , \", é Ana viva a Mariana, viva a Mariana!\" )\n",
        "  elif conta == 2:\n",
        "    print(\"Mariana conta\" ,conta, \", Mariana conta\" ,conta, \", é\" , conta-1 , \", é\", conta , \", é Ana viva a Mariana, viva a Mariana!\" )\n",
        "  elif conta == 3:\n",
        "    print(\"Mariana conta\" ,conta, \", Mariana conta\" ,conta, \", é\" , conta-2 , \", é\", conta-1 , \", é\", conta, \", é Ana viva a Mariana, viva a Mariana!\" )\n",
        "  elif conta == 4:\n",
        "    print(\"Mariana conta\" ,conta, \", Mariana conta\" ,conta, \", é\" , conta-3 , \", é\", conta-2 , \", é\", conta-1, \", é\", conta, \", é Ana viva a Mariana, viva a Mariana!\" )\n",
        "  elif conta == 5:\n",
        "    print(\"Mariana conta\" ,conta, \", Mariana conta\" ,conta, \", é\" , conta-4 , \", é\", conta-3 , \", é\", conta-2, \", é\", conta-1, \", é\", conta,\", é Ana viva a Mariana, viva a Mariana!\" )\n",
        "  elif conta == 6:\n",
        "    print(\"Mariana conta\" ,conta, \", Mariana conta\" ,conta, \", é\" , conta-5 , \", é\", conta-4 , \", é\", conta-3, \", é\", conta-2, \", é\", conta-1,\", é\", conta, \", é Ana viva a Mariana, viva a Mariana!\" )\n",
        "  elif conta == 7:\n",
        "    print(\"Mariana conta\" ,conta, \", Mariana conta\" ,conta, \", é\" , conta-6 , \", é\", conta-5 , \", é\", conta-4, \", é\", conta-3, \", é\", conta-2,\", é\", conta-1, \", é\", conta, \", é Ana viva a Mariana, viva a Mariana!\" )\n",
        "  elif conta == 8:\n",
        "    print(\"Mariana conta\" ,conta, \", Mariana conta\" ,conta, \", é\" , conta-7 , \", é\", conta-6 , \", é\", conta-5, \", é\", conta-4, \", é\", conta-3,\", é\", conta-2, \", é\", conta-1, \", é\", conta, \", é Ana viva a Mariana, viva a Mariana!\" )\n",
        "  elif conta == 9:\n",
        "    print(\"Mariana conta\" ,conta, \", Mariana conta\" ,conta, \", é\" , conta-8 , \", é\", conta-7 , \", é\", conta-6, \", é\", conta-5, \", é\", conta-4,\", é\", conta-3, \", é\", conta-2, \", é\", conta-1, \", é\", conta, \", é Ana viva a Mariana, viva a Mariana!\" )\n",
        "  elif conta == 10:\n",
        "    print(\"Mariana conta\" ,conta, \", Mariana conta\" ,conta, \", é\" , conta-9 , \", é\", conta-8 , \", é\", conta-7, \", é\", conta-6, \", é\", conta-5,\", é\", conta-4, \", é\", conta-3, \", é\", conta-2, \", é\", conta-1, \", é\", conta, \", é Ana viva a Mariana, viva a Mariana!\" )\n"
      ],
      "metadata": {
        "id": "tABT0mn-TeyS",
        "outputId": "21bc0130-015b-45ec-de91-499684e0d199",
        "colab": {
          "base_uri": "https://localhost:8080/"
        }
      },
      "execution_count": 1,
      "outputs": [
        {
          "output_type": "stream",
          "name": "stdout",
          "text": [
            "Mariana conta 1 , Mariana conta 1 , é 1 , é 2 , é Ana viva a Mariana, viva a Mariana!\n",
            "Mariana conta 2 , Mariana conta 2 , é 1 , é 2 , é Ana viva a Mariana, viva a Mariana!\n",
            "Mariana conta 3 , Mariana conta 3 , é 1 , é 2 , é 3 , é Ana viva a Mariana, viva a Mariana!\n",
            "Mariana conta 4 , Mariana conta 4 , é 1 , é 2 , é 3 , é 4 , é Ana viva a Mariana, viva a Mariana!\n",
            "Mariana conta 5 , Mariana conta 5 , é 1 , é 2 , é 3 , é 4 , é 5 , é Ana viva a Mariana, viva a Mariana!\n",
            "Mariana conta 6 , Mariana conta 6 , é 1 , é 2 , é 3 , é 4 , é 5 , é 6 , é Ana viva a Mariana, viva a Mariana!\n",
            "Mariana conta 7 , Mariana conta 7 , é 1 , é 2 , é 3 , é 4 , é 5 , é 6 , é 7 , é Ana viva a Mariana, viva a Mariana!\n",
            "Mariana conta 8 , Mariana conta 8 , é 1 , é 2 , é 3 , é 4 , é 5 , é 6 , é 7 , é 8 , é Ana viva a Mariana, viva a Mariana!\n",
            "Mariana conta 9 , Mariana conta 9 , é 1 , é 2 , é 3 , é 4 , é 5 , é 6 , é 7 , é 8 , é 9 , é Ana viva a Mariana, viva a Mariana!\n",
            "Mariana conta 10 , Mariana conta 10 , é 1 , é 2 , é 3 , é 4 , é 5 , é 6 , é 7 , é 8 , é 9 , é 10 , é Ana viva a Mariana, viva a Mariana!\n"
          ]
        }
      ]
    }
  ],
  "metadata": {
    "colab": {
      "toc_visible": true,
      "provenance": []
    },
    "kernelspec": {
      "display_name": "Python 3",
      "name": "python3"
    }
  },
  "nbformat": 4,
  "nbformat_minor": 0
}