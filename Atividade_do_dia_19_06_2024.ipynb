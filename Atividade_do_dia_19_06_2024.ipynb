{
  "cells": [
    {
      "cell_type": "markdown",
      "source": [
        "Criando uma classe / Instanciando objeto"
      ],
      "metadata": {
        "id": "j5b9QPKFi2JH"
      }
    },
    {
      "cell_type": "code",
      "source": [
        "class Animal ():\n",
        "  def __init__(self, name, weight, color):\n",
        "    self.nome = name\n",
        "    self.peso = weight\n",
        "    self.corDoPelo = color\n",
        "\n",
        "  def imprimirDados (self):\n",
        "   return(\"Nome: %s \\nPeso: %s\" %(self.nome, self.peso))\n",
        "\n",
        "  def latir(self, barulho):\n",
        "    print(barulho)\n",
        "\n",
        "caozinho = Animal(\"Marlene\", 7.9, \"Caramelo\")\n",
        "print(caozinho.imprimirDados())\n",
        "caozinho.latir(\"au,au!\")\n",
        "gato = Animal(\"Cibele\", 4.5, \"Cinza\")\n",
        "print(gato.imprimirDados())\n",
        "gato.latir(\"miau !\")"
      ],
      "metadata": {
        "colab": {
          "base_uri": "https://localhost:8080/"
        },
        "id": "xAJvvp7_4T0o",
        "outputId": "81fc14ac-acf0-49e4-89e6-979080f3cdfa"
      },
      "execution_count": null,
      "outputs": [
        {
          "output_type": "stream",
          "name": "stdout",
          "text": [
            "Nome: Marlene \n",
            "Peso: 7.9\n",
            "au,au!\n",
            "Nome: Cibele \n",
            "Peso: 4.5\n",
            "miau\n"
          ]
        }
      ]
    },
    {
      "cell_type": "markdown",
      "source": [
        "Criando uma classe chamada livro"
      ],
      "metadata": {
        "id": "eRIgfduS6FTn"
      }
    },
    {
      "cell_type": "code",
      "source": [
        "class Livro():\n",
        " def __init__ (self, titulo, isbn):\n",
        "  self.titulo = \"O Monge e o Executivo\"\n",
        "  self.isbn = 9988888\n",
        "  print(\"Construtor chamado para chamar um objeto desta classe.\")\n",
        " def imprime(self, titulo, isbn):\n",
        "  print(\"Foi criado o livro %s e ISBN %d\" %(titulo, isbn))\n"
      ],
      "metadata": {
        "id": "tE5yFVJO6JSo"
      },
      "execution_count": null,
      "outputs": []
    },
    {
      "cell_type": "markdown",
      "source": [
        "Criando a classe livros com parâmetros no método construtor"
      ],
      "metadata": {
        "id": "qvLHSlTm4hlb"
      }
    },
    {
      "cell_type": "code",
      "source": [
        "class Livro ():\n",
        "  def __init__ (self, titulo, isbn):\n",
        "    self.titulo = titulo\n",
        "    self.isbn = isbn\n",
        "    print(\"Construtor chamado para chamar um objeto desta classe.\")\n",
        "  def imprime(self, titulo, isbn):\n",
        "    print(\"Este é o livro %s e ISBN %d\" %(titulo, isbn))\n",
        "\n",
        "  Livro2 = Livro(\"A menina que roubava livros\", 77886611)\n",
        "\n",
        "  print(Livro2.titulo)"
      ],
      "metadata": {
        "colab": {
          "base_uri": "https://localhost:8080/"
        },
        "id": "rQVArD_L4zq-",
        "outputId": "f6498027-72e9-4ba3-946d-e9561bcf9f43"
      },
      "execution_count": null,
      "outputs": [
        {
          "output_type": "stream",
          "name": "stdout",
          "text": [
            "Construtor chamado para chamar um objeto desta classe.\n",
            "A menina que roubava livros\n"
          ]
        }
      ]
    },
    {
      "cell_type": "markdown",
      "source": [
        "Crie uma classe Pessoa com os atributos nome e idade; Implemente uma função capaz de retornar o ano que a pessoa nasceu usando apenas o valor referente a idade; Crie uma lista que armazene 5 pessoas, percorra a lista e mostre na tela todos os dados de forma organizada."
      ],
      "metadata": {
        "id": "d5n8pLS2DYjk"
      }
    },
    {
      "cell_type": "code",
      "source": [
        "class Pessoa:\n",
        "    def __init__(self, name, age):\n",
        "        self.nome = name\n",
        "        self.idade = age\n",
        "\n",
        "    def anoNascimento(self):\n",
        "        return (2024 - self.idade)\n",
        "\n",
        "pessoa1 = Pessoa(\"Fábio\", 15)\n",
        "pessoa2 = Pessoa(\"Luiza\", 16)\n",
        "pessoa3 = Pessoa(\"Rayssa\", 13)\n",
        "pessoa4 = Pessoa(\"Lucas\", 14)\n",
        "pessoa5 = Pessoa(\"João\", 17)\n",
        "\n",
        "lista_pessoas = [pessoa1, pessoa2, pessoa3, pessoa4, pessoa5]\n",
        "\n",
        "for pessoa in lista_pessoas:\n",
        "    print(f\"Nome: {pessoa.nome}, Idade: {pessoa.idade}, Ano de Nascimento: {pessoa.anoNascimento()}\")\n"
      ],
      "metadata": {
        "colab": {
          "base_uri": "https://localhost:8080/"
        },
        "id": "n_TV4DK5EF_2",
        "outputId": "e6d1adc6-aca2-4180-d13f-557b4eed8e0d"
      },
      "execution_count": null,
      "outputs": [
        {
          "output_type": "stream",
          "name": "stdout",
          "text": [
            "Nome: Fábio, Idade: 15, Ano de Nascimento: 2009\n",
            "Nome: Luiza, Idade: 16, Ano de Nascimento: 2008\n",
            "Nome: Rayssa, Idade: 13, Ano de Nascimento: 2011\n",
            "Nome: Lucas, Idade: 14, Ano de Nascimento: 2010\n",
            "Nome: João, Idade: 17, Ano de Nascimento: 2007\n"
          ]
        }
      ]
    }
  ],
  "metadata": {
    "colab": {
      "toc_visible": true,
      "provenance": []
    },
    "kernelspec": {
      "display_name": "Python 3",
      "name": "python3"
    }
  },
  "nbformat": 4,
  "nbformat_minor": 0
}