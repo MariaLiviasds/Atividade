{
  "nbformat": 4,
  "nbformat_minor": 0,
  "metadata": {
    "colab": {
      "provenance": []
    },
    "kernelspec": {
      "name": "python3",
      "display_name": "Python 3"
    },
    "language_info": {
      "name": "python"
    }
  },
  "cells": [
    {
      "cell_type": "code",
      "execution_count": null,
      "metadata": {
        "id": "8PfakAT6Z88j"
      },
      "outputs": [],
      "source": [
        "valor1 = input(\"Digite um número inteiro: \")\n",
        "valor2 = input(\"Digite outro número inteiro: \")\n",
        "\n",
        "print(valor1 == valor2)\n",
        "print(valor1 > valor2)\n",
        "print(valor1 < valor2)\n",
        "print(valor1 >= valor2)\n",
        "print(valor1 <= valor2)"
      ]
    },
    {
      "cell_type": "code",
      "source": [
        "numero = 10\n",
        "print(numero > 0 and numero < 10)"
      ],
      "metadata": {
        "id": "P4mio3JAbAT2"
      },
      "execution_count": null,
      "outputs": []
    },
    {
      "cell_type": "code",
      "source": [
        "numero = 10\n",
        "print(numero > 0 or numero < 10)"
      ],
      "metadata": {
        "id": "Rk2ISPrDbDcf"
      },
      "execution_count": null,
      "outputs": []
    },
    {
      "cell_type": "code",
      "source": [
        "valor = int(input(\"Digite um número inteiro: \"))\n",
        "\n",
        "if (valor % 2 == 0):\n",
        "  print(\"Par\")\n",
        "else:\n",
        "  print(\"Impar\")"
      ],
      "metadata": {
        "id": "uPq6d6BJbFIf"
      },
      "execution_count": null,
      "outputs": []
    },
    {
      "cell_type": "code",
      "source": [
        "cupom = input(\"Digite o cupom: \")\n",
        "\n",
        "if(cupom == \"aula1\" or cupom == \"aula2\"):\n",
        "  print(\"Você ganhou 10% de desconto\")\n",
        "else:\n",
        "  print(\"Esse cupom está inválido\")"
      ],
      "metadata": {
        "id": "FfenHuQYbGhn"
      },
      "execution_count": null,
      "outputs": []
    }
  ]
}