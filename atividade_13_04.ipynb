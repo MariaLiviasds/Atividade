{
  "nbformat": 4,
  "nbformat_minor": 0,
  "metadata": {
    "colab": {
      "provenance": [],
      "collapsed_sections": [
        "_U3ts9Fr-zGM",
        "ophDYvup-gUM",
        "MMqXEfDN_U4z",
        "lIU4pbwr_1pF",
        "AXibMSnyAAF9"
      ]
    },
    "kernelspec": {
      "name": "python3",
      "display_name": "Python 3"
    },
    "language_info": {
      "name": "python"
    }
  },
  "cells": [
    {
      "cell_type": "code",
      "source": [
        "numero_inteiro1 = int(input(\"Digite o primeiro número inteiro: \"))\n",
        "numero_inteiro2 = int(input(\"Digite o segundo número inteiro: \"))\n",
        "numero_real = float(input(\"Digite o número real: \"))\n",
        "resultado1 = (2 * numero_inteiro1) * (numero_inteiro2 / 2)\n",
        "resultado2 = (3 * numero_inteiro1) + numero_real\n",
        "terceiro_cubo = numero_real ** 3\n",
        "print(\"Resultado a):\", resultado1)\n",
        "print(\"Resultado b):\", resultado2)\n",
        "print(\"Terceiro elevado ao cubo:\", terceiro_cubo)"
      ],
      "metadata": {
        "colab": {
          "base_uri": "https://localhost:8080/"
        },
        "id": "X6hJMQiA3zSc",
        "outputId": "64666eb0-20bf-4588-dbbd-1f8b076f3de5"
      },
      "execution_count": null,
      "outputs": [
        {
          "output_type": "stream",
          "name": "stdout",
          "text": [
            "Digite o primeiro número inteiro: 13\n",
            "Digite o segundo número inteiro: 12\n",
            "Digite o número real: 2.5\n",
            "Resultado a): 156.0\n",
            "Resultado b): 41.5\n",
            "Terceiro elevado ao cubo: 15.625\n"
          ]
        }
      ]
    },
    {
      "cell_type": "code",
      "source": [
        "numero1 = float(input(\"Digite o primeiro número: \"))\n",
        "numero2 = float(input(\"Digite o segundo número: \"))\n",
        "if numero1 > numero2:\n",
        "    print(\"O primeiro número é maior:\", numero1)\n",
        "elif numero2 > numero1:\n",
        "    print(\"O segundo número é maior:\", numero2)\n",
        "else:\n",
        "    print(\"Os números são iguais.\")"
      ],
      "metadata": {
        "id": "jNm3ANdH9ikl",
        "outputId": "e3441d41-d30b-4558-e8e2-9943b9a0a045",
        "colab": {
          "base_uri": "https://localhost:8080/"
        }
      },
      "execution_count": null,
      "outputs": [
        {
          "output_type": "stream",
          "name": "stdout",
          "text": [
            "Digite o primeiro número: 2.5\n",
            "Digite o segundo número: 2.3\n",
            "O primeiro número é maior: 2.5\n"
          ]
        }
      ]
    },
    {
      "cell_type": "code",
      "source": [
        "numero = float(input(\"Digite um valor: \"))\n",
        "if numero > 0:\n",
        "    print(\"O valor é positivo.\")\n",
        "elif numero < 0:\n",
        "    print(\"O valor é negativo.\")\n",
        "else:\n",
        "    print(\"O valor é zero.\")"
      ],
      "metadata": {
        "id": "OtRfNinL92a8",
        "outputId": "4c6217a8-91dc-4182-a987-4863c40aba12",
        "colab": {
          "base_uri": "https://localhost:8080/"
        }
      },
      "execution_count": null,
      "outputs": [
        {
          "output_type": "stream",
          "name": "stdout",
          "text": [
            "Digite um valor: 25\n",
            "O valor é positivo.\n"
          ]
        }
      ]
    },
    {
      "cell_type": "code",
      "source": [
        "nota1 = float(input(\"Digite a primeira nota: \"))\n",
        "nota2 = float(input(\"Digite a segunda nota: \"))\n",
        "media = (nota1 + nota2) / 2\n",
        "if media >= 7.0:\n",
        "    print(\"Aprovado\")\n",
        "else:\n",
        "    print(\"Reprovado\")"
      ],
      "metadata": {
        "id": "x947vBF0_KNM",
        "outputId": "0af26477-4bab-478d-f55e-1de1724d6e91",
        "colab": {
          "base_uri": "https://localhost:8080/"
        }
      },
      "execution_count": null,
      "outputs": [
        {
          "output_type": "stream",
          "name": "stdout",
          "text": [
            "Digite a primeira nota: 6\n",
            "Digite a segunda nota: 8\n",
            "Aprovado\n"
          ]
        }
      ]
    },
    {
      "cell_type": "code",
      "source": [
        "numero1 = float(input(\"Digite o primeiro número: \"))\n",
        "numero2 = float(input(\"Digite o segundo número: \"))\n",
        "numero3 = float(input(\"Digite o terceiro número: \"))\n",
        "maior_numero = numero1\n",
        "if numero2 > maior_numero:\n",
        "    maior_numero = numero2\n",
        "if numero3 > maior_numero:\n",
        "    maior_numero = numero3\n",
        "print(\"O maior número é:\", maior_numero)"
      ],
      "metadata": {
        "id": "uwq4bXBA_Ro8",
        "outputId": "f17fa527-59c6-47b4-920b-b1a82c7f8b3a",
        "colab": {
          "base_uri": "https://localhost:8080/"
        }
      },
      "execution_count": null,
      "outputs": [
        {
          "output_type": "stream",
          "name": "stdout",
          "text": [
            "Digite o primeiro número: 5\n",
            "Digite o segundo número: 6.5\n",
            "Digite o terceiro número: 9.8\n",
            "O maior número é: 9.8\n"
          ]
        }
      ]
    }
  ]
}