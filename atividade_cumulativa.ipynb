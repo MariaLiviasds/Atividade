{
  "cells": [
    {
      "cell_type": "markdown",
      "source": [
        "**1. Faça um Programa que verifique se uma letra digitada é vogal ou consoante.**\n",
        "\n",
        "\n"
      ],
      "metadata": {
        "id": "TLQCrdMhQI67"
      }
    },
    {
      "cell_type": "code",
      "source": [
        "print(\"Bem-vindo!\")\n",
        "letra = str(input(\"Digite uma letra: \"))\n",
        "if letra == \"a\":\n",
        " print(\"A letra digitada é uma vogal.\")\n",
        "elif letra == \"A\":\n",
        " print(\"A letra digitada é uma vogal.\")\n",
        "elif letra == \"e\":\n",
        "  print(\"A letra digitada é uma vogal.\")\n",
        "elif letra == \"E\":\n",
        "  print(\"A letra digitada é uma vogal.\")\n",
        "elif letra == \"i\":\n",
        "   print(\"A letra digitada é uma vogal.\")\n",
        "elif letra == \"I\":\n",
        "  print(\"A letra digitada é uma vogal.\")\n",
        "elif letra == \"o\":\n",
        "  print(\"A letra digitada é uma vogal.\")\n",
        "elif letra == \"O\":\n",
        "  print(\"A letra digitada é uma vogal.\")\n",
        "elif letra == \"u\":\n",
        "  print(\"A letra digitada é uma vogal.\")\n",
        "elif letra == \"U\":\n",
        "  print(\"A letra digitada é uma vogal.\")\n",
        "else:\n",
        "  print(\"A letra digitada é uma consoante.\")"
      ],
      "metadata": {
        "id": "Ndb1_91qQSlL",
        "outputId": "0a81f811-7ee8-4644-eda4-e93d378f0e95",
        "colab": {
          "base_uri": "https://localhost:8080/"
        }
      },
      "execution_count": null,
      "outputs": [
        {
          "output_type": "stream",
          "name": "stdout",
          "text": [
            "Bem-vindo!\n",
            "Digite uma letra: B\n",
            "A letra digitada é uma consoante.\n"
          ]
        }
      ]
    },
    {
      "cell_type": "markdown",
      "source": [
        "**2. Faça um programa que pergunte o preço de três produtos e informe qual produto você deve comprar, sabendo que a decisão é sempre pelo mais barato.**"
      ],
      "metadata": {
        "id": "Y7YaMrGDQoju"
      }
    },
    {
      "cell_type": "code",
      "source": [
        "preco_produto1 = float(input(\"Digite o preço do primeiro produto: \"))\n",
        "preco_produto2 = float(input(\"Digite o preço do segundo produto: \"))\n",
        "preco_produto3 = float(input(\"Digite o preço do terceiro produto: \"))\n",
        "\n",
        "if preco_produto1 < preco_produto2 and preco_produto1 < preco_produto3:\n",
        "  print(\"O primeiro produto é o mais barato custando\" , preco_produto1)\n",
        "elif preco_produto2 < preco_produto1 and preco_produto2 < preco_produto3:\n",
        "  print(\"O segundo produto é o mais barato custando\" , preco_produto2)\n",
        "elif preco_produto3 < preco_produto1 and preco_produto3 < preco_produto2:\n",
        "  print(\"O terceiro produto é o mais barato custando\" , preco_produto3)"
      ],
      "metadata": {
        "id": "qJeLxevpRLEw",
        "outputId": "5bdd4ba5-7d52-4147-9345-8c0883e3750e",
        "colab": {
          "base_uri": "https://localhost:8080/"
        }
      },
      "execution_count": 2,
      "outputs": [
        {
          "output_type": "stream",
          "name": "stdout",
          "text": [
            "Digite o preço do primeiro produto: 25.80\n",
            "Digite o preço do segundo produto: 18.90\n",
            "Digite o preço do terceiro produto: 12.33\n",
            "O terceiro produto é o mais barato custando 12.33\n"
          ]
        }
      ]
    },
    {
      "cell_type": "markdown",
      "source": [
        "**3. Faça um programa que leia três números e mostre-os em ordem decrescente.**\n",
        "\n",
        "\n"
      ],
      "metadata": {
        "id": "G9mcYZUsRLgI"
      }
    },
    {
      "cell_type": "code",
      "source": [
        "numero1 = int(input(\"Digite um número inteiro: \"))\n",
        "numero2 = int(input(\"Digite um número inteiro: \"))\n",
        "numero3 = int(input(\"Digite um número inteiro: \"))\n",
        "\n",
        "numero_maior = numero1\n",
        "if numero2 > numero_maior:\n",
        " numero_maior = numero2\n",
        "if numero3 > numero_maior:\n",
        " numero_maior = numero3\n",
        "\n",
        "numero_menor = numero1\n",
        "if numero2 < numero_menor:\n",
        " numero_menor = numero2\n",
        "if numero3 < numero_menor:\n",
        " numero_menor = numero3\n",
        "\n",
        "numero_meio = ((numero1 + numero2 + numero3) - numero_maior - numero_menor)\n",
        "\n",
        "print(\"A ordem decrescente dos números é\" , numero_maior, numero_meio, numero_menor)"
      ],
      "metadata": {
        "id": "03q-hx34RVhf",
        "colab": {
          "base_uri": "https://localhost:8080/"
        },
        "outputId": "19871ba7-87e9-4503-ec1e-e06f18d13c1e"
      },
      "execution_count": 11,
      "outputs": [
        {
          "output_type": "stream",
          "name": "stdout",
          "text": [
            "Digite um número inteiro: 3\n",
            "Digite um número inteiro: 8\n",
            "Digite um número inteiro: 7\n",
            "A ordem decrescente dos números é 8 7 3\n"
          ]
        }
      ]
    },
    {
      "cell_type": "markdown",
      "source": [
        "**4. Faça um programa que pergunte em que turno você estuda. Peça para digitar  M-matutino ou V-vespertino ou N-noturno. Imprima a mensagem \"Bom dia!\" OU \"Boa noite\" ou \"Valor Inválido\", conforme o caso.**"
      ],
      "metadata": {
        "id": "9M0G96GDRXl3"
      }
    },
    {
      "cell_type": "code",
      "source": [
        "print(\"Olá!\")\n",
        "turno = str(input(\"Digite o turno em que você estuda sendo 'V' para vespertino, 'M' para matutino e 'N' para noturno: \"))\n",
        "\n",
        "if turno == \"M\" or turno == \"m\":\n",
        " print(\"Bom dia!\")\n",
        "elif turno == \"V\" or turno == \"v\":\n",
        "  print(\"Bom dia!\")\n",
        "elif turno == \"N\" or turno == \"n\":\n",
        "  print(\"Boa noite!\")\n",
        "else:\n",
        "  print(\"Valor inválido.\")\n",
        "\n"
      ],
      "metadata": {
        "id": "pNo289GcR17c",
        "colab": {
          "base_uri": "https://localhost:8080/"
        },
        "outputId": "e2dfeb13-c013-46b3-8088-742bc999acf6"
      },
      "execution_count": 21,
      "outputs": [
        {
          "output_type": "stream",
          "name": "stdout",
          "text": [
            "Olá!\n",
            "Digite o turno em que você estuda sendo 'V' para vespertino, 'M' para matutino e 'N' para noturno: oi\n",
            "Valor inválido.\n"
          ]
        }
      ]
    },
    {
      "cell_type": "markdown",
      "source": [
        "**5. Faça um programa que leia um número e exiba o dia correspondente da semana. (1-Domingo, 2-Segunda, etc). Se for digitado outro valor deve retomar uma mensagem informando valor inválido.**"
      ],
      "metadata": {
        "id": "ZxEOlPgVrWCL"
      }
    },
    {
      "cell_type": "code",
      "source": [
        "domingo = 1\n",
        "segunda = 2\n",
        "terça = 3\n",
        "quarta = 4\n",
        "quinta = 5\n",
        "sexta = 6\n",
        "sabado = 7\n",
        "\n",
        "numero = (int(input(\"Digite um número para o dia da semana: \")))\n",
        "\n",
        "if numero == 1:\n",
        " print(\"O dia escolhido foi o domingo!\")\n",
        "elif numero == 2:\n",
        " print(\"O dia escolhido foi a segunda-feira!\")\n",
        "elif numero == 3:\n",
        " print(\"O dia escolhido foi a terça-feira!\")\n",
        "elif numero == 4:\n",
        " print(\"O dia escolhido foi a quarta-feira!\")\n",
        "elif numero == 5:\n",
        "  print(\"O dia escolhido foi a quinta-feira!\")\n",
        "elif numero == 6:\n",
        "  print(\"O dia escolhido foi a sexta-feira!\")\n",
        "elif numero == 7:\n",
        "  print(\"O dia escolhido foi o sábado!\")\n",
        "else:\n",
        " print(\"Valor inválido.\")\n"
      ],
      "metadata": {
        "colab": {
          "base_uri": "https://localhost:8080/"
        },
        "id": "GOBs_F8frwbo",
        "outputId": "36874663-6b0b-4b85-c305-8f197c52ae06"
      },
      "execution_count": 24,
      "outputs": [
        {
          "output_type": "stream",
          "name": "stdout",
          "text": [
            "Digite um número para o dia da semana: 5\n",
            "O dia escolhido foi a quinta-feira!\n"
          ]
        }
      ]
    },
    {
      "cell_type": "markdown",
      "source": [
        "**5. Faça um programa que lê as duas notas parciais obtidas por um aluno numa disciplina ao longo de um semestre, calcule a sua média. O programa deve mostrar na tela as notas, a média o conceito correspondente e a mensagem \"APROVADO\" se o conceito for A, B ou C e \"REPROVADO\" se o conceito for \"D\" ou \"E\".**"
      ],
      "metadata": {
        "id": "ToCJ2R6LtUv8"
      }
    },
    {
      "cell_type": "code",
      "source": [
        "nota1 = float(input(\"Digite a sua primeira nota: \"))\n",
        "nota2 = float(input(\"Digite a sua segunda nota: \"))\n",
        "media = (nota1 + nota2) / 2\n",
        "if media >= 9.0 or media == 10.0:\n",
        " print(\"Sua primeira nota foi:\",nota1,\", a segunda nota:\", nota2,\", a média:\",media ,\"e o conceito: A.\")\n",
        " print(\"APROVADO!\")\n",
        "elif media >= 7.5 or media == 8.9:\n",
        " print(\"Sua primeira nota foi\",nota1,\", segunda nota:\", nota2,\", a média:\",media ,\"e o conceito: B.\")\n",
        " print(\"APROVADO!\")\n",
        "elif media >= 6.0 or media == 7.4:\n",
        " print(\"Sua primeira nota foi\",nota1,\", segunda nota:\", nota2,\", a média:\",media ,\"e o conceito: C.\")\n",
        " print(\"APROVADO!\")\n",
        "elif media >= 4.0 or media == 6.0:\n",
        " print(\"Sua primeira nota foi\",nota1,\", segunda nota:\", nota2,\", a média:\",media ,\"e o conceito: D.\")\n",
        " print(\"REPROVADO!\")\n",
        "elif media < 4.0 or media == 0:\n",
        " print(\"Sua primeira nota foi\",nota1,\", segunda nota:\", nota2,\", a média:\",media ,\"e o conceito: E.\")\n",
        " print(\"REPROVADO!\")\n"
      ],
      "metadata": {
        "colab": {
          "base_uri": "https://localhost:8080/"
        },
        "id": "klJDpt-wt-Al",
        "outputId": "09a99353-00b7-4a40-f343-b762e8ddaec9"
      },
      "execution_count": 40,
      "outputs": [
        {
          "output_type": "stream",
          "name": "stdout",
          "text": [
            "Digite a sua primeira nota: 0\n",
            "Digite a sua segunda nota: 0\n",
            "Sua primeira nota foi 0.0 , segunda nota: 0.0 , a média: 0.0 e o conceito: E.\n",
            "REPROVADO!\n"
          ]
        }
      ]
    },
    {
      "cell_type": "markdown",
      "source": [
        "**6. Faça um programa que peça um número correspondente a um determinado ano e em seguida informe se este ano é ou não bissexto**.\n",
        "\n",
        "\n",
        "\n",
        "\n"
      ],
      "metadata": {
        "id": "GuDVwM8sz5W0"
      }
    },
    {
      "cell_type": "code",
      "source": [
        "ano = int(input(\"Digite um valor correspondente a um ano: \"))\n",
        "if ((ano % 4 == 0 and ano % 100 != 0) or (ano % 400 == 0)):\n",
        "  print(\"O ano digitado é um ano bissexto!\")\n",
        "else:\n",
        "  print(\"O ano digitado não é um ano bissexto\")\n"
      ],
      "metadata": {
        "colab": {
          "base_uri": "https://localhost:8080/"
        },
        "id": "h6OIoyJO0chi",
        "outputId": "f05056d5-7534-4dae-bb85-e166892d90bb"
      },
      "execution_count": 52,
      "outputs": [
        {
          "output_type": "stream",
          "name": "stdout",
          "text": [
            "Digite um valor correspondente a um ano: 1900\n",
            "O ano digitado não é um ano bissexto\n"
          ]
        }
      ]
    },
    {
      "cell_type": "markdown",
      "source": [
        "**7. Faça um programa que leia dois números e em seguida pergunte ao usuário qual operação básica(soma, subtração, multiplicação, divisão, exponenciação) ele deseja realizar. O resultado da operação deve ser acompanhado de uma frase que diga se o número é ímpar ou par; positivo ou negativo; inteiro ou decimal.**"
      ],
      "metadata": {
        "id": "189dpYHR-Rs0"
      }
    },
    {
      "cell_type": "code",
      "source": [
        "numero1 = float(input(\"Digite um número: \"))\n",
        "numero2 = float(input(\"Digite um número: \"))\n",
        "operacao = str(input(\"Digite a operação básica que você deseja realizar: \"))\n",
        "if operacao == \"Soma\" or operacao == \"soma\":\n",
        "    resultado = numero1 + numero2\n",
        "    print(\"O resultado da operação é:\", resultado)\n",
        "elif operacao == \"Subtração\" or operacao == \"subtração\":\n",
        "    resultado = numero1 - numero2\n",
        "    print(\"O resultado da operação é:\", resultado)\n",
        "elif operacao == \"Multiplicação\" or operacao == \"multiplicação\":\n",
        "    resultado = numero1 * numero2\n",
        "    print(\"O resultado da operação é:\", resultado)\n",
        "elif operacao == \"Exponenciação\" or operacao == \"exponenciação\":\n",
        "   resultado = numero1 ** numero2\n",
        "   print(\"O resultado da operação é:\", resultado)\n",
        "elif operacao == \"Divisão\" or operacao == \"divisão\":\n",
        "    if numero2 != 0:\n",
        "        resultado = numero1 / numero2\n",
        "        print(\"O resultado da operação é:\", resultado)\n",
        "if resultado % 2 == 0:\n",
        "  print(\"O resultado da operação é par.\")\n",
        "else:\n",
        "  print(\"O resultado da operação é ímpar.\")\n",
        "if resultado > 0:\n",
        "    print(\"O resultado da operação é positivo.\")\n",
        "elif resultado < 0:\n",
        "    print(\"O resultado da operação é negativo.\")\n",
        "else:\n",
        "    print(\"O resultado da operação é zero.\")\n",
        "if resultado.is_integer:\n",
        "  print(\"O resultado da operação é um número inteiro.\")\n",
        "else:\n",
        "  print(\"O resultado da operação é um número decimal.\")\n",
        "\n",
        "\n"
      ],
      "metadata": {
        "colab": {
          "base_uri": "https://localhost:8080/"
        },
        "id": "baYdesfY-3_f",
        "outputId": "65e95010-3550-4925-f28f-5d0e5f708930"
      },
      "execution_count": 70,
      "outputs": [
        {
          "output_type": "stream",
          "name": "stdout",
          "text": [
            "Digite um número: 28\n",
            "Digite um número: 35\n",
            "Digite a operação básica que você deseja realizar: exponenciação\n",
            "O resultado da operação é: 4.4723017385997145e+50\n",
            "O resultado da operação é par.\n",
            "O resultado da operação é positivo.\n",
            "O resultado da operação é um número inteiro.\n"
          ]
        }
      ]
    },
    {
      "cell_type": "markdown",
      "source": [
        "**8. Faça um programa que peça a idade e exiba a informação. Os valores aceitáveis devem estar entra 0 e 150. Valores fora desse limite não podem ser aceitos.**"
      ],
      "metadata": {
        "id": "aiTI3iHQGkTc"
      }
    },
    {
      "cell_type": "code",
      "source": [
        "idade = int(input(\"Digite a sua idade: \"))\n",
        "while True:\n",
        "    if idade < 0:\n",
        "        idade = int(input(\"Idade inválida, digite novamente:\"))\n",
        "    elif idade > 150:\n",
        "        idade = int(input(\"Idade inválida, digite novamente:\"))\n",
        "    elif idade > 0 and idade <= 150:\n",
        "      print(\"A idade é\" ,idade)\n",
        "      break"
      ],
      "metadata": {
        "colab": {
          "base_uri": "https://localhost:8080/"
        },
        "id": "ImZEoKRwG8xt",
        "outputId": "97a4f1c3-f6e0-49af-8801-8ff4ca61ca4e"
      },
      "execution_count": 88,
      "outputs": [
        {
          "output_type": "stream",
          "name": "stdout",
          "text": [
            "Digite a sua idade: 20\n",
            "A idade é 20\n"
          ]
        }
      ]
    },
    {
      "cell_type": "markdown",
      "source": [
        "9. Utilizando estruturas de repetições e listas(com ou sem .append), faça um programa que leia 5 números e informe a soma e a média dos números.\n"
      ],
      "metadata": {
        "id": "34CUhWe1I6ed"
      }
    },
    {
      "cell_type": "code",
      "source": [
        "num = []\n",
        "for numeros in range(5):\n",
        "  n = int(input(\"Digite um número: \"))\n",
        "  num.append(n)\n",
        "soma = sum(num)\n",
        "print(\"A soma é\" , soma)\n",
        "media = sum(num) / 5\n",
        "print(\"A média é\" , media)\n",
        "\n",
        "\n"
      ],
      "metadata": {
        "colab": {
          "base_uri": "https://localhost:8080/"
        },
        "id": "8FvQwj4GI9Kp",
        "outputId": "806c1a5f-8633-4219-ebe6-b5aa7ad096db"
      },
      "execution_count": 106,
      "outputs": [
        {
          "output_type": "stream",
          "name": "stdout",
          "text": [
            "Digite um número: 12\n",
            "Digite um número: 14\n",
            "Digite um número: 16\n",
            "Digite um número: 18\n",
            "Digite um número: 20\n",
            "A soma é 80\n",
            "A média é 16.0\n"
          ]
        }
      ]
    },
    {
      "cell_type": "markdown",
      "source": [
        "**10. Faça um programa que pega um número inteiro e determine se ele é ou nao um numero primo. Um número primo é aquele que é divisível somente por ele mesmo e por 1.**"
      ],
      "metadata": {
        "id": "8xLnM5mtO3gM"
      }
    },
    {
      "cell_type": "code",
      "source": [
        "numero = int(input(\"Digite um número inteiro:\"))\n",
        "\n",
        "if numero > 1:\n",
        "    primo = True\n",
        "    for i in range(2, numero):\n",
        "        if numero % i == 0:\n",
        "            primo = False\n",
        "            break\n",
        "\n",
        "    if primo:\n",
        "        print(\"O número digitado é primo.\")\n",
        "    else:\n",
        "        print(\"O número digitado não é um número primo.\")\n",
        "else:\n",
        "    print(\"O número digitado não é um número primo.\")"
      ],
      "metadata": {
        "colab": {
          "base_uri": "https://localhost:8080/"
        },
        "id": "SzNCv6IlO7lS",
        "outputId": "46d2151e-df1f-4098-8338-214c49967998"
      },
      "execution_count": 115,
      "outputs": [
        {
          "output_type": "stream",
          "name": "stdout",
          "text": [
            "Digite um número inteiro:36\n",
            "O número digitado não é um número primo.\n"
          ]
        }
      ]
    },
    {
      "cell_type": "markdown",
      "source": [
        "**11. O Departamento Estadual de Meteorologia Ihe contratou para desenvolver um programa que leia 5 temperaturas, e informe ao final a menor e a maior temperaturas informadas, bem como a média das temperaturas.**"
      ],
      "metadata": {
        "id": "M-jRR3cZWB7A"
      }
    },
    {
      "cell_type": "code",
      "source": [
        "temperatura1 = float(input(\"Digite a primeira temperatura : \"))\n",
        "temperatura2 = float(input(\"Digite a segunda temperatura : \"))\n",
        "temperatura3 = float(input(\"Digite a terceira temperatura : \"))\n",
        "temperatura4 = float(input(\"Digite a quarta temperatura : \"))\n",
        "temperatura5 = float(input(\"Digite a quinta temperatura : \"))\n",
        "\n",
        "maior_temp = 0\n",
        "menor_temp = 0\n",
        "\n",
        "media = (temperatura1 + temperatura2 + temperatura3 + temperatura4 + temperatura5) / 5\n",
        "\n",
        "if temperatura1 < temperatura2 and temperatura1 < temperatura3 and temperatura1 < temperatura4 and temperatura1 < temperatura5:\n",
        "  menor_temp = temperatura1\n",
        "elif temperatura2 < temperatura1 and temperatura2 < temperatura3 and temperatura2 < temperatura4 and temperatura2 < temperatura5:\n",
        "  menor_temp = temperatura2\n",
        "elif temperatura3 < temperatura1 and temperatura3 < temperatura2 and temperatura3 < temperatura4 and temperatura3 < temperatura5:\n",
        "  menor_temp = temperatura3\n",
        "elif temperatura4 < temperatura1 and temperatura4 < temperatura2 and temperatura4 < temperatura3 and temperatura4 < temperatura5:\n",
        "  menor_temp = temperatura4\n",
        "elif temperatura5 < temperatura1 and temperatura5 < temperatura2 and temperatura5 < temperatura3 and temperatura5 < temperatura4:\n",
        "  menor_temp = temperatura5\n",
        "\n",
        "if temperatura1 > temperatura2 and temperatura1 > temperatura3 and temperatura1 > temperatura4 and temperatura1 > temperatura5:\n",
        "  maior_temp = temperatura1\n",
        "elif temperatura2 > temperatura1 and temperatura2 > temperatura3 and temperatura2 > temperatura4 and temperatura2 > temperatura5:\n",
        "  maior_temp = temperatura2\n",
        "elif temperatura3 > temperatura1 and temperatura3 > temperatura2 and temperatura3 > temperatura4 and temperatura3 > temperatura5:\n",
        "  maior_temp = temperatura3\n",
        "elif temperatura4 > temperatura1 and temperatura4 > temperatura2 and temperatura4 > temperatura3 and temperatura4 > temperatura5:\n",
        "  maior_temp = temperatura4\n",
        "elif temperatura5 > temperatura1 and temperatura5 > temperatura2 and temperatura5 > temperatura3 and temperatura5 > temperatura4:\n",
        "  maior_temp = temperatura5\n",
        "\n",
        "print(\"A menor temperatura é de \", menor_temp, \", a maior temperatura é de \", maior_temp, \" e a média das temperaturas é \", media)\n"
      ],
      "metadata": {
        "colab": {
          "base_uri": "https://localhost:8080/"
        },
        "id": "UlcWgIbLWJRB",
        "outputId": "752346b9-1849-4634-fe64-e43b2332eca7"
      },
      "execution_count": 125,
      "outputs": [
        {
          "output_type": "stream",
          "name": "stdout",
          "text": [
            "Digite a primeira temperatura : 15\n",
            "Digite a segunda temperatura : 20\n",
            "Digite a terceira temperatura : 22.1\n",
            "Digite a quarta temperatura : 24\n",
            "Digite a quinta temperatura : 23\n",
            "A menor temperatura é de  15.0 , a maior temperatura é de  24.0  e a média das temperaturas é  20.82\n"
          ]
        }
      ]
    },
    {
      "cell_type": "markdown",
      "source": [
        "**12. Um banco concederá um crédito especial aos seus clientes, variável com o saldo médio no último ano. Faça um algoritmo que leia o saldo médio de um cliente e calcule o valor do crédito de acordo com a tabela abaixo. Mostre uma mensagem informando o saldo médio e o valor do crédito.**\n",
        "\n",
        "\n",
        "\n"
      ],
      "metadata": {
        "id": "o0GJGr_iWJxh"
      }
    },
    {
      "cell_type": "code",
      "source": [
        "saldo_medio = float(input(\"Qual o seu saldo médio do último ano: \"))\n",
        "credito1 = saldo_medio * 0.20\n",
        "credito2 = saldo_medio * 0.30\n",
        "credito3 = saldo_medio * 0.40\n",
        "if saldo_medio == 0 or saldo_medio <= 200.0:\n",
        "  print(\"Infelizmente o banco não pode conceder crédito.\")\n",
        "elif saldo_medio == 201.0 or saldo_medio <= 400.0:\n",
        "  print(\"O crédito especial será no valor de\", credito1)\n",
        "elif saldo_medio == 401.0 or saldo_medio <= 600.0:\n",
        "  print(\"O crédito especial será no valor de\", credito2)\n",
        "elif saldo_medio > 601.0:\n",
        "  print(\"O crédito especial será no valor de\", credito3)"
      ],
      "metadata": {
        "colab": {
          "base_uri": "https://localhost:8080/"
        },
        "id": "kWraIXqCWVcS",
        "outputId": "cfe8fc44-bb85-43d0-b5f8-851170c6b359"
      },
      "execution_count": 126,
      "outputs": [
        {
          "output_type": "stream",
          "name": "stdout",
          "text": [
            "Qual o seu saldo médio do último ano: 500\n",
            "O crédito especial será no valor de 150.0\n"
          ]
        }
      ]
    },
    {
      "cell_type": "markdown",
      "source": [
        "**13. Você foi contratado(a) para fazer um servigo para o INSS (Instituto Nacional do Seguro Social) do Brasil. O trabalho consiste em criar um programa que diga a pessoa o ano que ela pode se aposentar. Você deve perguntar a pessoa, o nome, a idade e criar uma mensagem dizendo em qual ano ela irá aposentar. Considere que todas as pessoas poderã se aposentar aos 65 anos de idade(rs).**\n"
      ],
      "metadata": {
        "id": "RQ6YPRD8WV8u"
      }
    },
    {
      "cell_type": "code",
      "source": [
        "nome = str(input(\"Qual o seu nome? \"))\n",
        "idade = int(input(\"Qual a sua idade? \"))\n",
        "ano_aposentadoria = (65 - idade) + 2024\n",
        "print(\"Você irá se aposentar no ano de\" , ano_aposentadoria)"
      ],
      "metadata": {
        "colab": {
          "base_uri": "https://localhost:8080/"
        },
        "id": "Qyx1lOFcWpvq",
        "outputId": "eab0892b-08a3-4aa6-e6ba-f236d2bd9b95"
      },
      "execution_count": 128,
      "outputs": [
        {
          "output_type": "stream",
          "name": "stdout",
          "text": [
            "Qual o seu nome? Livia\n",
            "Qual a sua idade? 21\n",
            "Você irá se aposentar no ano de 2068\n"
          ]
        }
      ]
    },
    {
      "cell_type": "markdown",
      "source": [
        "14. Faça um programa para o cálculo de uma folha de pagamento, sabendo que os descontos são do Imposto de Renda, que depende do salário bruto (conforme tabela abaixo), 3% para o Sindicato e que o FGTS corresponde a 11% do salário bruto, mas não é descontado (é a empresa que deposita). O salário líquido corresponde ao salário bruto menos os descontos. O programa deverá pedir ao usuário o valor\n",
        "da sua hora e a quantidade de horas trabalhadas no mês.\n",
        "\n",
        "Desconto do IR:\n",
        "Salário Bruto até RS 2.112,00(inclusive) — Isento;\n",
        "De 2.112,01 até 2.826,65(inclusive) — desconto de 7.5%;\n",
        "De 2.826,66 até 3.751,05(inclusive) — desconto de 15%;\n",
        "De 3.751,06 até 4.664,68(inclusive) — desconto de 22.5%;\n",
        "Acima de 4.664,68 — desconto de 27.5%."
      ],
      "metadata": {
        "id": "5qTFgeECWqOI"
      }
    },
    {
      "cell_type": "markdown",
      "source": [
        "não consegui compreender a questão."
      ],
      "metadata": {
        "id": "I0wjXRYmnU9_"
      }
    },
    {
      "cell_type": "code",
      "source": [
        "valor_hora = float(input(\"Qual o valor da sua hora trabalhada: \"))\n",
        "hora_trabalhada = float(input(\"Qual quantidade de horas trabalhadas no mês: \"))\n"
      ],
      "metadata": {
        "id": "zXKCoZQPXLXO"
      },
      "execution_count": null,
      "outputs": []
    }
  ],
  "metadata": {
    "colab": {
      "toc_visible": true,
      "provenance": []
    },
    "kernelspec": {
      "display_name": "Python 3",
      "name": "python3"
    }
  },
  "nbformat": 4,
  "nbformat_minor": 0
}