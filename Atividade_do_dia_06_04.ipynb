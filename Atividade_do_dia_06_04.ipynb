{
  "nbformat": 4,
  "nbformat_minor": 0,
  "metadata": {
    "colab": {
      "provenance": [],
      "toc_visible": true
    },
    "kernelspec": {
      "name": "python3",
      "display_name": "Python 3"
    },
    "language_info": {
      "name": "python"
    }
  },
  "cells": [
    {
      "cell_type": "markdown",
      "source": [
        "Operações com variáveis"
      ],
      "metadata": {
        "id": "Zw-W1E5_evZG"
      }
    },
    {
      "cell_type": "code",
      "source": [
        "idade1 = 20\n",
        "idade2 = 35\n",
        "idade1 + idade2\n",
        "somaIdades = idade1 + idade2\n",
        "idade1 - idade2\n",
        "subtracaoIdades = idade1 - idade2\n",
        "idade1 * idade2\n",
        "multiplicacaoIdades = idade1 * idade2\n",
        "idade1 / idade2\n",
        "divisaoIdades = idade1 / idade2\n",
        "\n"
      ],
      "metadata": {
        "id": "Hgw6y9U6eyIW"
      },
      "execution_count": 5,
      "outputs": []
    },
    {
      "cell_type": "markdown",
      "source": [
        "Adição, subtração, multiplicação e divisão"
      ],
      "metadata": {
        "id": "NruOEQ30g8vl"
      }
    },
    {
      "cell_type": "code",
      "source": [
        "adicao = idade1 + 10\n",
        "subtracao = idade1 - 15\n",
        "multiplicacao = idade1 * 4\n",
        "divisao = idade1 / 5"
      ],
      "metadata": {
        "id": "CgzZK2TRg9jN"
      },
      "execution_count": 6,
      "outputs": []
    },
    {
      "cell_type": "markdown",
      "source": [
        "Operações múltiplas"
      ],
      "metadata": {
        "id": "KCsEEckZgkX1"
      }
    },
    {
      "cell_type": "code",
      "source": [
        "2 *(idade1 + idade2)\n",
        "2 * idade1 + 3 * idade2 / 4\n",
        "(2 * idade1 + 3 * idade2) / 4\n"
      ],
      "metadata": {
        "colab": {
          "base_uri": "https://localhost:8080/"
        },
        "id": "M1kzpkZSgnEd",
        "outputId": "781c67ef-bd3c-4ed1-d9f7-da02790f7aa3"
      },
      "execution_count": 4,
      "outputs": [
        {
          "output_type": "execute_result",
          "data": {
            "text/plain": [
              "36.25"
            ]
          },
          "metadata": {},
          "execution_count": 4
        }
      ]
    },
    {
      "cell_type": "markdown",
      "source": [
        "Outros operadores (exponenciação, parte inteira e módulo)"
      ],
      "metadata": {
        "id": "MFjZNE9rhI3V"
      }
    },
    {
      "cell_type": "code",
      "source": [
        "idade1 ** 2\n",
        "idade2 // idade1\n",
        "idade2 % idade1"
      ],
      "metadata": {
        "id": "iZ7msLF0hKUd"
      },
      "execution_count": null,
      "outputs": []
    },
    {
      "cell_type": "markdown",
      "source": [
        "Concatenação de variáveis"
      ],
      "metadata": {
        "id": "LZ-y-7wrhiG1"
      }
    },
    {
      "cell_type": "code",
      "source": [
        "nome = \"Camila \"\n",
        "sobrenome = \"Dantas\"\n",
        "print(nome + sobrenome)\n",
        "print(nome + \" \" + sobrenome)\n",
        "print(\"Olá, \" ,nome, \"você tem \", idade1 + 15, \"anos. \")"
      ],
      "metadata": {
        "colab": {
          "base_uri": "https://localhost:8080/"
        },
        "id": "TJHHG_YuhkaF",
        "outputId": "402fb0a9-ea94-4d41-e2c4-f243ccb5d10f"
      },
      "execution_count": 12,
      "outputs": [
        {
          "output_type": "stream",
          "name": "stdout",
          "text": [
            "Camila Dantas\n",
            "Camila  Dantas\n",
            "Olá,  Camila  você tem  35 anos. \n"
          ]
        }
      ]
    },
    {
      "cell_type": "markdown",
      "source": [
        "Quebra de linha \"\\n\""
      ],
      "metadata": {
        "id": "qdOJ91RumtLp"
      }
    },
    {
      "cell_type": "code",
      "source": [
        "print(\"Olá, \" , nome, '\\n', \"você tem\", idade1 + 15, \"anos. \")"
      ],
      "metadata": {
        "colab": {
          "base_uri": "https://localhost:8080/"
        },
        "id": "hJ1OEXFzmwdD",
        "outputId": "792d4169-a4c2-4bcf-b4b5-0142755addc6"
      },
      "execution_count": 15,
      "outputs": [
        {
          "output_type": "stream",
          "name": "stdout",
          "text": [
            "Olá,  Camila  \n",
            " você tem 35 anos. \n"
          ]
        }
      ]
    },
    {
      "cell_type": "markdown",
      "source": [
        "Solicitação ao usuário (input)"
      ],
      "metadata": {
        "id": "K9T4z2q3nKUX"
      }
    },
    {
      "cell_type": "code",
      "source": [
        "input(\"Digite seu nome: \")\n",
        "nome = input(\"Digite seu nome:\")\n"
      ],
      "metadata": {
        "colab": {
          "base_uri": "https://localhost:8080/"
        },
        "id": "rjI1xeUknNCd",
        "outputId": "ab9c7329-7b18-4ef0-f24a-d4e34ad3f0f5"
      },
      "execution_count": 17,
      "outputs": [
        {
          "name": "stdout",
          "output_type": "stream",
          "text": [
            "Digite seu nome: Julia\n",
            "Digite seu nome:Luiza\n"
          ]
        }
      ]
    }
  ]
}