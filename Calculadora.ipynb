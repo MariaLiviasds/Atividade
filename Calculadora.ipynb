{
  "nbformat": 4,
  "nbformat_minor": 0,
  "metadata": {
    "colab": {
      "provenance": []
    },
    "kernelspec": {
      "name": "python3",
      "display_name": "Python 3"
    },
    "language_info": {
      "name": "python"
    }
  },
  "cells": [
    {
      "cell_type": "code",
      "execution_count": 17,
      "metadata": {
        "colab": {
          "base_uri": "https://localhost:8080/"
        },
        "id": "0fLAvwIs1KHu",
        "outputId": "d6160374-9c58-4310-e292-1d497d312156"
      },
      "outputs": [
        {
          "output_type": "stream",
          "name": "stdout",
          "text": [
            "MENU DE OPERAÇÕES\n",
            "| Operação 1 - somar\n",
            "| Operação 2 - subtrair\n",
            "| Operação 3 - multiplicar\n",
            "| Operação 4 - dividir\n",
            "| 0 - sair\n",
            "Qual operação você deseja? 0\n",
            "Programa encerrado.\n"
          ]
        }
      ],
      "source": [
        "def soma (x, y):\n",
        " return x + y\n",
        "def subtracao (x, y):\n",
        " return x - y\n",
        "def multiplicacao (x, y):\n",
        " return x * y\n",
        "def divisao (x, y):\n",
        " return x / y\n",
        " if y == 0:\n",
        "  return \"Erro\"\n",
        " else:\n",
        "  return x / y\n",
        "\n",
        "print(\"MENU DE OPERAÇÕES\")\n",
        "print(\"| Operação 1 - somar\")\n",
        "print(\"| Operação 2 - subtrair\")\n",
        "print(\"| Operação 3 - multiplicar\")\n",
        "print(\"| Operação 4 - dividir\")\n",
        "print(\"| 0 - sair\")\n",
        "\n",
        "operacao = int(input(\"Qual operação você deseja? \"))\n",
        "\n",
        "if operacao == 0:\n",
        "    print(\"Programa encerrado.\")\n",
        "elif operacao == 1:\n",
        "    numero1 = float(input(\"Primeiro número: \"))\n",
        "    numero2 = float(input(\"Segundo número: \"))\n",
        "    print(\"O resultado da soma é: \", soma(numero1, numero2))\n",
        "elif operacao == 2:\n",
        "    numero1 = float(input(\"Primeiro número: \"))\n",
        "    numero2 = float(input(\"Segundo número: \"))\n",
        "    print(\"O resultado da subtração é: \", subtrai(numero1, numero2))\n",
        "elif operacao == 3:\n",
        "    numero1 = float(input(\"Primeiro número: \"))\n",
        "    numero2 = float(input(\"Segundo número: \"))\n",
        "    print(\"O resultado da multiplicação é: \", multiplica(numero1, numero2))\n",
        "elif operacao == 4:\n",
        "    numero1 = float(input(\"Primeiro número: \"))\n",
        "    numero2 = float(input(\"Segundo número: \"))\n",
        "    print(\"O resultado da divisão é: \", divide(numero1, numero2))\n",
        "else:\n",
        "    print(\"Opção inválida! Tente novamente.\")"
      ]
    }
  ]
}